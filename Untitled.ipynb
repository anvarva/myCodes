{
 "cells": [
  {
   "cell_type": "code",
   "execution_count": null,
   "metadata": {},
   "outputs": [],
   "source": [
    "# -*- coding: utf-8 -*-\n",
    "\"\"\"\n",
    "Created on Thu Feb 28 10:26:31 2019\n",
    "\n",
    "@author: KangerJS\n",
    "\"\"\"\n",
    "\n",
    "# defining functions\n",
    "\n",
    "def square(x):\n",
    "    \"\"\"\n",
    "    returns the square of the input x\n",
    "    \"\"\"\n",
    "    return x**2\n",
    "\n",
    "sq5 = square(5)\n",
    "\n",
    "\n",
    "def power(x, p=2):\n",
    "    \"\"\"\n",
    "    returns the x raised to the power p\n",
    "    \"\"\"\n",
    "    return x**p\n",
    "\n",
    "print(power(5, p=3))\n",
    "print(power(5))\n",
    "\n",
    "\n",
    "def roots(x):\n",
    "    \"\"\"\n",
    "    returns the roots of x \n",
    "    \"\"\"\n",
    "    root = x**0.5\n",
    "    return root, -root\n",
    "\n",
    "\n",
    "result = list(roots(9))\n",
    "r1, r2 = roots(9)\n",
    "r1,_ = roots(9)\n"
   ]
  },
  {
   "cell_type": "code",
   "execution_count": null,
   "metadata": {},
   "outputs": [],
   "source": []
  },
  {
   "cell_type": "code",
   "execution_count": null,
   "metadata": {},
   "outputs": [],
   "source": []
  }
 ],
 "metadata": {
  "kernelspec": {
   "display_name": "Python 3",
   "language": "python",
   "name": "python3"
  },
  "language_info": {
   "codemirror_mode": {
    "name": "ipython",
    "version": 3
   },
   "file_extension": ".py",
   "mimetype": "text/x-python",
   "name": "python",
   "nbconvert_exporter": "python",
   "pygments_lexer": "ipython3",
   "version": "3.7.1"
  }
 },
 "nbformat": 4,
 "nbformat_minor": 2
}
